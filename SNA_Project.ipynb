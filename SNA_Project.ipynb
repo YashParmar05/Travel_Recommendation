{
  "nbformat": 4,
  "nbformat_minor": 0,
  "metadata": {
    "colab": {
      "provenance": []
    },
    "kernelspec": {
      "name": "python3",
      "display_name": "Python 3"
    },
    "language_info": {
      "name": "python"
    }
  },
  "cells": [
    {
      "cell_type": "markdown",
      "source": [
        "# **SNA Major Project : Travel Plannig using Social network graph**\n",
        "> A user-centric approach to cost-effective and interest-based travel recommendations\n",
        "\n",
        "- Submitted by Yash Parmar"
      ],
      "metadata": {
        "id": "F6XS-Cm--YGW"
      }
    },
    {
      "cell_type": "code",
      "source": [
        "#@title Mount Google Drive\n",
        "from google.colab import drive\n",
        "drive.mount('/content/drive')"
      ],
      "metadata": {
        "colab": {
          "base_uri": "https://localhost:8080/"
        },
        "id": "mXLJK2UZrFVu",
        "outputId": "cf1e5223-1813-4c88-90de-33dd20277754"
      },
      "execution_count": null,
      "outputs": [
        {
          "output_type": "stream",
          "name": "stdout",
          "text": [
            "Drive already mounted at /content/drive; to attempt to forcibly remount, call drive.mount(\"/content/drive\", force_remount=True).\n"
          ]
        }
      ]
    },
    {
      "cell_type": "code",
      "source": [
        "#@title Import libraries\n",
        "\n",
        "import pandas as pd\n",
        "import random\n",
        "import networkx as nx\n",
        "import matplotlib.pyplot as plt\n",
        "from collections import defaultdict, Counter\n",
        "from itertools import permutations\n",
        "from sklearn.metrics.pairwise import cosine_similarity\n",
        "import numpy as np"
      ],
      "metadata": {
        "id": "79a7FkxvrIQz"
      },
      "execution_count": null,
      "outputs": []
    },
    {
      "cell_type": "code",
      "source": [
        "#@title loading our dataset\n",
        "\n",
        "def load_data():\n",
        "    user_to_city = pd.read_csv('/content/drive/My Drive/colab/SNA Project/temp/users_to_cities.csv')\n",
        "    city_to_city = pd.read_csv('/content/drive/My Drive/colab/SNA Project/temp/cities_connections.csv')\n",
        "    user_to_user = pd.read_csv('/content/drive/My Drive/colab/SNA Project/temp/users_connections.csv')\n",
        "\n",
        "    # for giant dataset\n",
        "    # user_to_city = pd.read_csv('/content/drive/My Drive/colab/SNA Project/giant_users_to_cities.csv')\n",
        "    # city_to_city = pd.read_csv('/content/drive/My Drive/colab/SNA Project/giant_cities_connections.csv')\n",
        "    # user_to_user = pd.read_csv('/content/drive/My Drive/colab/SNA Project/giant_users_connections.csv')\n",
        "\n",
        "    return user_to_city, city_to_city, user_to_user"
      ],
      "metadata": {
        "id": "Ls396ZjdrVmT"
      },
      "execution_count": null,
      "outputs": []
    },
    {
      "cell_type": "code",
      "source": [
        "#@title Build our social networking graph\n",
        "\n",
        "def build_graphs(user_to_city, city_to_city, user_to_user):\n",
        "    G_cities = nx.MultiGraph()\n",
        "    for _, row in city_to_city.iterrows():\n",
        "        G_cities.add_edge(row['city1'], row['city2'], mode=row['mode'], time=row['time'], cost=row['cost'])\n",
        "\n",
        "    G_simple = nx.Graph()\n",
        "    for u, v, data in G_cities.edges(data=True):\n",
        "        cost, time = data['cost'], data['time']\n",
        "        if G_simple.has_edge(u, v):\n",
        "            if cost < G_simple[u][v]['cost']:\n",
        "                G_simple[u][v]['cost'] = cost\n",
        "                G_simple[u][v]['time'] = time\n",
        "        else:\n",
        "            G_simple.add_edge(u, v, cost=cost, time=time)\n",
        "\n",
        "    G_users = nx.Graph()\n",
        "    for _, row in user_to_user.iterrows():\n",
        "        u, v, city = row['to_user'], row['from_user'], row['shared_city']\n",
        "        if G_users.has_edge(u, v):\n",
        "            G_users.edges[u, v]['shared_cities'].add(city)\n",
        "        else:\n",
        "            G_users.add_edge(u, v, shared_cities={city})\n",
        "\n",
        "    return G_cities, G_simple, G_users\n"
      ],
      "metadata": {
        "id": "a46XX9qpyDVC"
      },
      "execution_count": null,
      "outputs": []
    },
    {
      "cell_type": "code",
      "source": [
        "#@title function for return visited city\n",
        "\n",
        "def get_visited_cities(user_to_city):\n",
        "    visited = defaultdict(set)\n",
        "    for _, row in user_to_city.iterrows():\n",
        "        if row['status'] in ['Visited', 'Reviewed']:\n",
        "            visited[row['user']].add(row['city'])\n",
        "    return visited"
      ],
      "metadata": {
        "id": "Zh5gPGKpyHIl"
      },
      "execution_count": null,
      "outputs": []
    },
    {
      "cell_type": "code",
      "source": [
        "#@title Function for check if shared city is valid or not (It is Valid, if shared city is either visited or reviewed)\n",
        "\n",
        "def get_shared_cities_with_validation(user, G_users, visited_cities):\n",
        "    valid_shared_cities = set()\n",
        "    if user not in G_users.nodes:\n",
        "        return valid_shared_cities\n",
        "    for neighbor in G_users.neighbors(user):\n",
        "        shared = G_users.edges[user, neighbor]['shared_cities']\n",
        "        for city in shared:\n",
        "            if city in visited_cities.get(neighbor, set()):\n",
        "                valid_shared_cities.add(city)\n",
        "    return valid_shared_cities"
      ],
      "metadata": {
        "id": "sZZnwIWKyMEx"
      },
      "execution_count": null,
      "outputs": []
    },
    {
      "cell_type": "markdown",
      "source": [
        "## **Function that finds optimal journey path :**\n",
        "\n",
        "- Fastest path ( low time)\n",
        "- Cheapest path (low cost)"
      ],
      "metadata": {
        "id": "pZnIKj6WC86z"
      }
    },
    {
      "cell_type": "code",
      "source": [
        "def find_optimal_path(G, source, target, weight):\n",
        "    try:\n",
        "        path = nx.shortest_path(G, source, target, weight=weight)\n",
        "        total = nx.shortest_path_length(G, source, target, weight=weight)\n",
        "        return path, total\n",
        "    except nx.NetworkXNoPath:\n",
        "        return None, float('inf')"
      ],
      "metadata": {
        "id": "HHcWWSdfyOQZ"
      },
      "execution_count": null,
      "outputs": []
    },
    {
      "cell_type": "code",
      "source": [
        "def calculate_path_time(G, path):\n",
        "    total_time = 0\n",
        "    for i in range(len(path) - 1):\n",
        "        edge_data = G.get_edge_data(path[i], path[i + 1])\n",
        "        best_edge = min(edge_data.values(), key=lambda x: x['cost'])\n",
        "        total_time += best_edge['time']\n",
        "    return total_time"
      ],
      "metadata": {
        "id": "ThVxn9V5yO1D"
      },
      "execution_count": null,
      "outputs": []
    },
    {
      "cell_type": "markdown",
      "source": [
        "### **Function that check valid path based on connection that have shared city**\n",
        "\n",
        "> If shared city has not been visited or reviewed by the user who recommended then it will not considered."
      ],
      "metadata": {
        "id": "e30F-xMaDbVW"
      }
    },
    {
      "cell_type": "code",
      "source": [
        "def find_valid_paths(source, destination, G_cities, shared_cities):\n",
        "    from itertools import permutations, product\n",
        "\n",
        "    valid_paths = set()\n",
        "    results = []\n",
        "\n",
        "    shared_cities = [c for c in shared_cities if c != destination]\n",
        "    if not shared_cities:\n",
        "        for weight in ['cost', 'time']:\n",
        "            path, total = find_optimal_path(G_cities, source, destination, weight=weight)\n",
        "            if path:\n",
        "                total_time = calculate_path_time(G_cities, path)\n",
        "                total_cost = sum(min(data['cost'] for data in G_cities.get_edge_data(path[i], path[i+1]).values())\n",
        "                                 for i in range(len(path)-1))\n",
        "                results.append({'path': path, 'time': total_time, 'cost': total_cost})\n",
        "        return results\n",
        "\n",
        "    all_combos = []\n",
        "    for r in range(1, len(shared_cities)+1):\n",
        "        all_combos.extend(permutations(shared_cities, r))\n",
        "\n",
        "    for perm in all_combos:\n",
        "        full_seq = [source] + list(perm) + [destination]\n",
        "\n",
        "        # Now generate all combinations of (time-optimal, cost-optimal) for each segment\n",
        "        segment_paths_options = []\n",
        "\n",
        "        for i in range(len(full_seq)-1):\n",
        "            u, v = full_seq[i], full_seq[i+1]\n",
        "            segment_opts = []\n",
        "\n",
        "            for weight in ['cost', 'time']:\n",
        "                path, _ = find_optimal_path(G_cities, u, v, weight=weight)\n",
        "                if path:\n",
        "                    segment_opts.append(path)\n",
        "\n",
        "            if not segment_opts:\n",
        "                break  # can't proceed\n",
        "            segment_paths_options.append(segment_opts)\n",
        "\n",
        "        # Now create cartesian product of all segments to get full paths\n",
        "        for path_combo in product(*segment_paths_options):\n",
        "            full_path = [path_combo[0][0]]\n",
        "            for segment in path_combo:\n",
        "                full_path += segment[1:]\n",
        "            if len(set(full_path)) == len(full_path):  # no loops\n",
        "                path_key = tuple(full_path)\n",
        "                if path_key not in valid_paths:\n",
        "                    total_time = calculate_path_time(G_cities, full_path)\n",
        "                    total_cost = sum(min(data['cost'] for data in G_cities.get_edge_data(full_path[i], full_path[i+1]).values())\n",
        "                                     for i in range(len(full_path)-1))\n",
        "                    results.append({'path': full_path, 'time': total_time, 'cost': total_cost})\n",
        "                    valid_paths.add(path_key)\n",
        "\n",
        "    return results\n"
      ],
      "metadata": {
        "id": "tVKY7cglyQs7"
      },
      "execution_count": null,
      "outputs": []
    },
    {
      "cell_type": "markdown",
      "source": [
        "### **Function to calculate Similarity between the users**"
      ],
      "metadata": {
        "id": "Qx_sO54uEG3R"
      }
    },
    {
      "cell_type": "code",
      "source": [
        "def compute_jaccard_similarity(user1, user2, visited_cities):\n",
        "    set1 = visited_cities.get(user1, set())\n",
        "    set2 = visited_cities.get(user2, set())\n",
        "    if not set1 or not set2:\n",
        "        return 0.0\n",
        "    intersection = set1 & set2\n",
        "    union = set1 | set2\n",
        "    return len(intersection) / len(union)"
      ],
      "metadata": {
        "id": "EKbRTVnwyU60"
      },
      "execution_count": null,
      "outputs": []
    },
    {
      "cell_type": "code",
      "source": [
        "def compute_network_measures(G_users, visited_cities):\n",
        "\n",
        "    print(\"------------------------------------------------------------------------------------------\")\n",
        "    print(\"\\n📊 Network Similarity and Centrality Measures:\")\n",
        "    eigen_centrality = nx.eigenvector_centrality(G_users)\n",
        "    betweenness_centrality = nx.betweenness_centrality(G_users)\n",
        "\n",
        "    for user in G_users.nodes():\n",
        "        print(f\"\\nUser {user}:\")\n",
        "        print(f\"  Eigenvector Centrality: {eigen_centrality[user]:.3f}\")\n",
        "        print(f\"  Betweenness Centrality: {betweenness_centrality[user]:.3f}\")\n",
        "\n",
        "        no_sim_found = True\n",
        "        for neighbor in G_users.nodes():\n",
        "            if user != neighbor:\n",
        "                sim = compute_jaccard_similarity(user, neighbor, visited_cities)\n",
        "                if sim > 0:\n",
        "                    print(f\"  Jaccard Similarity with {neighbor}: {sim:.3f}\")\n",
        "                    no_sim_found = False\n",
        "        if no_sim_found:\n",
        "            print(f\"  ❌ No Jaccard similarity with any other user.\")"
      ],
      "metadata": {
        "id": "TI6l-xVbyW3x"
      },
      "execution_count": null,
      "outputs": []
    },
    {
      "cell_type": "code",
      "source": [
        "import community as community_louvain\n",
        "import matplotlib.pyplot as plt\n",
        "\n",
        "def detect_communities(G_users):\n",
        "\n",
        "    print(\"------------------------------------------------------------------------------------------\")\n",
        "    print(\"\\n🔍 Detecting Communities using Louvain Method...\")\n",
        "\n",
        "    if len(G_users.nodes) == 0:\n",
        "        print(\"❌ Cannot detect communities. Graph is empty.\")\n",
        "        return\n",
        "\n",
        "    # Compute communities\n",
        "    partition = community_louvain.best_partition(G_users)\n",
        "\n",
        "    # Group users by their community\n",
        "    community_dict = {}\n",
        "    for user, comm_id in partition.items():\n",
        "        community_dict.setdefault(comm_id, []).append(user)\n",
        "\n",
        "    # Display communities\n",
        "    print(f\"\\n🧭 Total Communities Found: {len(community_dict)}\")\n",
        "    for comm_id, members in community_dict.items():\n",
        "        print(f\"Community {comm_id + 1}: {members}\")\n",
        "\n",
        "    # (Optional) Visualize\n",
        "    pos = nx.spring_layout(G_users)\n",
        "    cmap = plt.get_cmap('viridis')\n",
        "    plt.figure(figsize=(8, 6))\n",
        "    nx.draw(G_users, pos, node_color=list(partition.values()), with_labels=True, cmap=cmap, node_size=500)\n",
        "    plt.title(\"User Communities (Louvain Detection)\")\n",
        "    plt.show()\n"
      ],
      "metadata": {
        "id": "KrdtC6qPacO0"
      },
      "execution_count": null,
      "outputs": []
    },
    {
      "cell_type": "markdown",
      "source": [
        "### **Main Driver Function**"
      ],
      "metadata": {
        "id": "ehcY7SHSEdd8"
      }
    },
    {
      "cell_type": "code",
      "source": [
        "def recommend_travel_paths():\n",
        "    user_to_city, city_to_city, user_to_user = load_data()\n",
        "    G_cities, G_simple, G_users = build_graphs(user_to_city, city_to_city, user_to_user)\n",
        "    visited_cities = get_visited_cities(user_to_city)\n",
        "\n",
        "    source = input(\"Enter source city: \").strip()\n",
        "    destination = input(\"Enter destination city: \").strip()\n",
        "    user = input(\"Enter your user ID: \").strip()\n",
        "\n",
        "    print(\"------------------------------------------------------------------------------------------\")\n",
        "    print(f\"\\nFinding travel paths from {source} to {destination} for {user}...\")\n",
        "\n",
        "    shared_cities = get_shared_cities_with_validation(user, G_users, visited_cities)\n",
        "    print(f\"\\n✅ Valid shared cities from your network: {shared_cities}\")\n",
        "\n",
        "    valid_paths = find_valid_paths(source, destination, G_cities, shared_cities)\n",
        "\n",
        "    if not valid_paths:\n",
        "        print(\"\\n❌ No valid travel paths found considering your network.\")\n",
        "        return\n",
        "\n",
        "    valid_paths.sort(key=lambda x: (x['cost'], x['time']))\n",
        "\n",
        "    print(\"\\n✅ All Valid Travel Paths:\")\n",
        "    for i, path in enumerate(valid_paths, 1):\n",
        "        print(f\"\\nPath {i}: {' → '.join(path['path'])}\")\n",
        "        print(f\"  Total Time: {path['time']} hours\")\n",
        "        print(f\"  Total Cost: ₹{path['cost']}\")\n",
        "\n",
        "    fastest = min(valid_paths, key=lambda x: x['time'])\n",
        "    cheapest = min(valid_paths, key=lambda x: x['cost'])\n",
        "\n",
        "    print(\"------------------------------------------------------------------------------------------\")\n",
        "\n",
        "    print(\"\\n⭐ Optimal Recommendations:\")\n",
        "    print(f\"\\nFastest Path ({fastest['time']} hours): {' → '.join(fastest['path'])}\")\n",
        "    print(f\"  Cost: ₹{fastest['cost']}\")\n",
        "    print(f\"\\nCheapest Path (₹{cheapest['cost']}): {' → '.join(cheapest['path'])}\")\n",
        "    print(f\"  Time: {cheapest['time']} hours\")\n",
        "\n",
        "    compute_network_measures(G_users, visited_cities)\n",
        "    detect_communities(G_users)\n",
        "\n",
        "if __name__ == \"__main__\":\n",
        "    recommend_travel_paths()"
      ],
      "metadata": {
        "colab": {
          "base_uri": "https://localhost:8080/",
          "height": 1000
        },
        "id": "v1jJRkW6yaqq",
        "outputId": "3c6c7b84-4a53-4e96-bed3-41b60cd97b63"
      },
      "execution_count": null,
      "outputs": [
        {
          "output_type": "stream",
          "name": "stdout",
          "text": [
            "Enter source city: City_1\n",
            "Enter destination city: City_6\n",
            "Enter your user ID: User_6\n",
            "------------------------------------------------------------------------------------------\n",
            "\n",
            "Finding travel paths from City_1 to City_6 for User_6...\n",
            "\n",
            "✅ Valid shared cities from your network: {'City_5'}\n",
            "\n",
            "✅ All Valid Travel Paths:\n",
            "\n",
            "Path 1: City_1 → City_4 → City_5 → City_8 → City_6\n",
            "  Total Time: 25 hours\n",
            "  Total Cost: ₹4451\n",
            "\n",
            "Path 2: City_1 → City_5 → City_8 → City_6\n",
            "  Total Time: 16 hours\n",
            "  Total Cost: ₹7253\n",
            "\n",
            "Path 3: City_1 → City_4 → City_5 → City_6\n",
            "  Total Time: 13 hours\n",
            "  Total Cost: ₹8169\n",
            "\n",
            "Path 4: City_1 → City_5 → City_6\n",
            "  Total Time: 4 hours\n",
            "  Total Cost: ₹10971\n",
            "------------------------------------------------------------------------------------------\n",
            "\n",
            "⭐ Optimal Recommendations:\n",
            "\n",
            "Fastest Path (4 hours): City_1 → City_5 → City_6\n",
            "  Cost: ₹10971\n",
            "\n",
            "Cheapest Path (₹4451): City_1 → City_4 → City_5 → City_8 → City_6\n",
            "  Time: 25 hours\n",
            "------------------------------------------------------------------------------------------\n",
            "\n",
            "📊 Network Similarity and Centrality Measures:\n",
            "\n",
            "User User_1:\n",
            "  Eigenvector Centrality: 0.351\n",
            "  Betweenness Centrality: 0.028\n",
            "  ❌ No Jaccard similarity with any other user.\n",
            "\n",
            "User User_2:\n",
            "  Eigenvector Centrality: 0.352\n",
            "  Betweenness Centrality: 0.204\n",
            "  Jaccard Similarity with User_5: 0.333\n",
            "  Jaccard Similarity with User_4: 0.333\n",
            "\n",
            "User User_5:\n",
            "  Eigenvector Centrality: 0.379\n",
            "  Betweenness Centrality: 0.116\n",
            "  Jaccard Similarity with User_2: 0.333\n",
            "  Jaccard Similarity with User_7: 0.333\n",
            "\n",
            "User User_3:\n",
            "  Eigenvector Centrality: 0.343\n",
            "  Betweenness Centrality: 0.028\n",
            "  Jaccard Similarity with User_6: 1.000\n",
            "\n",
            "User User_4:\n",
            "  Eigenvector Centrality: 0.335\n",
            "  Betweenness Centrality: 0.046\n",
            "  Jaccard Similarity with User_2: 0.333\n",
            "  Jaccard Similarity with User_8: 0.500\n",
            "\n",
            "User User_7:\n",
            "  Eigenvector Centrality: 0.400\n",
            "  Betweenness Centrality: 0.120\n",
            "  Jaccard Similarity with User_5: 0.333\n",
            "\n",
            "User User_6:\n",
            "  Eigenvector Centrality: 0.331\n",
            "  Betweenness Centrality: 0.065\n",
            "  Jaccard Similarity with User_3: 1.000\n",
            "\n",
            "User User_8:\n",
            "  Eigenvector Centrality: 0.274\n",
            "  Betweenness Centrality: 0.245\n",
            "  Jaccard Similarity with User_4: 0.500\n",
            "\n",
            "User User_9:\n",
            "  Eigenvector Centrality: 0.065\n",
            "  Betweenness Centrality: 0.000\n",
            "  ❌ No Jaccard similarity with any other user.\n",
            "\n",
            "User User_10:\n",
            "  Eigenvector Centrality: 0.174\n",
            "  Betweenness Centrality: 0.009\n",
            "  ❌ No Jaccard similarity with any other user.\n",
            "------------------------------------------------------------------------------------------\n",
            "\n",
            "🔍 Detecting Communities using Louvain Method...\n",
            "\n",
            "🧭 Total Communities Found: 3\n",
            "Community 1: ['User_1', 'User_2', 'User_3', 'User_4']\n",
            "Community 3: ['User_5', 'User_10']\n",
            "Community 2: ['User_7', 'User_6', 'User_8', 'User_9']\n"
          ]
        },
        {
          "output_type": "display_data",
          "data": {
            "text/plain": [
              "<Figure size 800x600 with 1 Axes>"
            ],
            "image/png": "[encoded data removed]"
          },
          "metadata": {}
        }
      ]
    },
    {
      "cell_type": "markdown",
      "source": [
        "### **Function for predicting city that User most probably visit :**\n",
        "\n",
        "> Here Prediction based on the connection that mostly visited or reviewe."
      ],
      "metadata": {
        "id": "q74evnbgEoCX"
      }
    },
    {
      "cell_type": "code",
      "source": [
        "import pandas as pd\n",
        "from collections import Counter\n",
        "\n",
        "# Load the CSVs\n",
        "df_users_to_cities, df_city_to_city, df_user_connections = load_data()\n",
        "\n",
        "# Get all unique users\n",
        "all_users = df_users_to_cities['user'].unique()\n",
        "\n",
        "# Build a dictionary: user -> visited cities\n",
        "user_cities = df_users_to_cities.groupby('user')['city'].apply(set).to_dict()\n",
        "\n",
        "# Build a dictionary: user -> connected users\n",
        "user_connections = {}\n",
        "for _, row in df_user_connections.iterrows():\n",
        "    from_user = row['from_user'].strip()\n",
        "    to_user = row['to_user'].strip()\n",
        "\n",
        "    if from_user not in user_connections:\n",
        "        user_connections[from_user] = set()\n",
        "    if to_user not in user_connections:\n",
        "        user_connections[to_user] = set()\n",
        "\n",
        "    user_connections[from_user].add(to_user)\n",
        "    user_connections[to_user].add(from_user)\n"
      ],
      "metadata": {
        "id": "gvVgfxpWy29-"
      },
      "execution_count": null,
      "outputs": []
    },
    {
      "cell_type": "code",
      "source": [
        "# Predict next city for a specific user\n",
        "def predict_next_city(user_id):\n",
        "    print(f\"\\n📌 Predicting next city for: {user_id}\")\n",
        "\n",
        "    visited = user_cities.get(user_id, set())\n",
        "    connected_users = user_connections.get(user_id, set())\n",
        "\n",
        "    if not connected_users:\n",
        "        print(\"❌ No connected users found.\")\n",
        "        return\n",
        "\n",
        "    # Gather all cities visited by connected users\n",
        "    recommended = []\n",
        "    for conn_user in connected_users:\n",
        "        cities = user_cities.get(conn_user, set())\n",
        "        new_cities = cities - visited\n",
        "        recommended.extend(new_cities)\n",
        "\n",
        "    if not recommended:\n",
        "        print(\"❌ No new cities to recommend based on connected users.\")\n",
        "        return\n",
        "\n",
        "    # Count frequency of each potential city\n",
        "    city_counts = Counter(recommended)\n",
        "    most_common = city_counts.most_common(1)[0]\n",
        "\n",
        "    print(f\"✅ Most probable next city: {most_common[0]} (visited {most_common[1]} times by connections)\")\n",
        "\n",
        "# Run prediction for user\n",
        "user = input(\"To predict user next visiting place, Enter the User ID: \").strip()\n",
        "predict_next_city(user)\n"
      ],
      "metadata": {
        "colab": {
          "base_uri": "https://localhost:8080/"
        },
        "id": "FgqDMrlk7-yM",
        "outputId": "6be2351c-6eae-4356-a1ed-17662d8cf93c"
      },
      "execution_count": null,
      "outputs": [
        {
          "output_type": "stream",
          "name": "stdout",
          "text": [
            "To predict user next visiting place, Enter the User ID: User_6\n",
            "\n",
            "📌 Predicting next city for: User_6\n",
            "✅ Most probable next city: City_5 (visited 2 times by connections)\n"
          ]
        }
      ]
    },
    {
      "cell_type": "code",
      "source": [],
      "metadata": {
        "id": "MObu3mpfYOvG"
      },
      "execution_count": null,
      "outputs": []
    }
  ]
}
